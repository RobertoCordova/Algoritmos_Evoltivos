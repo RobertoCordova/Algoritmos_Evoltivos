{
 "metadata": {
  "language_info": {
   "codemirror_mode": {
    "name": "ipython",
    "version": 3
   },
   "file_extension": ".py",
   "mimetype": "text/x-python",
   "name": "python",
   "nbconvert_exporter": "python",
   "pygments_lexer": "ipython3",
   "version": "3.7.9"
  },
  "orig_nbformat": 4,
  "kernelspec": {
   "name": "python3",
   "display_name": "Python 3.7.9 64-bit ('pygpu': conda)"
  },
  "interpreter": {
   "hash": "fb1d46553072a9b13bb0425ce6bad8f63c37cd9ac9159f740b02d9980521a30e"
  }
 },
 "nbformat": 4,
 "nbformat_minor": 2,
 "cells": [
  {
   "cell_type": "code",
   "execution_count": 1,
   "metadata": {},
   "outputs": [],
   "source": [
    "import numpy as np\n",
    "import pandas as pd\n",
    "import matplotlib.pyplot as plt"
   ]
  },
  {
   "cell_type": "code",
   "execution_count": 93,
   "metadata": {},
   "outputs": [],
   "source": [
    "df= pd.read_excel(r'DistanciasCiudades.xlsx', engine='openpyxl')\n",
    "tab_conf= df.to_numpy()[0:18]"
   ]
  },
  {
   "cell_type": "code",
   "execution_count": 108,
   "metadata": {},
   "outputs": [],
   "source": [
    "#Generacion de la población\n",
    "class Poblacion:\n",
    "    def __init__(self, num_pob, num_gen, dataf):\n",
    "        self.num_pob= num_pob\n",
    "        self.num_gen= num_gen\n",
    "        self.tabla= dataf\n",
    "        self.CreacionPoblacion()\n",
    "\n",
    "    def CreacionPoblacion(self):\n",
    "        self.pobl= np.empty(self.num_pob, dtype= object)\n",
    "        for f in range(self.num_pob):\n",
    "            self.pobl[f]= Individuo(self.num_pob, self.num_gen, self.tabla)\n",
    "\n",
    "    def AcomodoPob(self):\n",
    "        \n",
    "\n",
    "\n",
    "\n",
    "class Individuo:\n",
    "    def __init__(self, num_pob, num_gen, tab):\n",
    "        self.num_pob= num_pob\n",
    "        self.num_gen= num_gen\n",
    "        self.tabla= tab\n",
    "        self.CreacionIndividuo()\n",
    "        self.Aptitud()\n",
    "        \n",
    "    def CreacionIndividuo(self):\n",
    "        prueb= np.arange(self.num_gen, dtype= int)\n",
    "        for c in range(self.num_gen, 0, -1):\n",
    "            cam= np.random.randint(c)\n",
    "            guard= prueb[c-1]\n",
    "            prueb[c-1]= prueb[cam]\n",
    "            prueb[cam]= guard\n",
    "        self.indv= prueb\n",
    "\n",
    "    def Aptitud(self):\n",
    "        distancia= 0\n",
    "        for c in range(self.num_gen-1):\n",
    "            distancia= distancia+ self.tabla[self.indv[c], self.indv[c+1]]\n",
    "        distancia= distancia+ self.tabla[self.indv[1], self.indv[c+1]]\n",
    "        self.apt= distancia"
   ]
  },
  {
   "cell_type": "code",
   "execution_count": 109,
   "metadata": {},
   "outputs": [],
   "source": [
    "n= Poblacion(50, 18, tab_conf)"
   ]
  },
  {
   "cell_type": "code",
   "execution_count": 111,
   "metadata": {},
   "outputs": [
    {
     "output_type": "execute_result",
     "data": {
      "text/plain": [
       "array([<__main__.Individuo object at 0x0000021B5900FB48>,\n",
       "       <__main__.Individuo object at 0x0000021B59790288>,\n",
       "       <__main__.Individuo object at 0x0000021B597902C8>,\n",
       "       <__main__.Individuo object at 0x0000021B59787708>,\n",
       "       <__main__.Individuo object at 0x0000021B59787448>,\n",
       "       <__main__.Individuo object at 0x0000021B597875C8>,\n",
       "       <__main__.Individuo object at 0x0000021B59787FC8>,\n",
       "       <__main__.Individuo object at 0x0000021B597876C8>,\n",
       "       <__main__.Individuo object at 0x0000021B59787F08>,\n",
       "       <__main__.Individuo object at 0x0000021B59787E48>,\n",
       "       <__main__.Individuo object at 0x0000021B59787588>,\n",
       "       <__main__.Individuo object at 0x0000021B59626248>,\n",
       "       <__main__.Individuo object at 0x0000021B5961AE88>,\n",
       "       <__main__.Individuo object at 0x0000021B5961AC88>,\n",
       "       <__main__.Individuo object at 0x0000021B5961A708>,\n",
       "       <__main__.Individuo object at 0x0000021B5961AB88>,\n",
       "       <__main__.Individuo object at 0x0000021B591A61C8>,\n",
       "       <__main__.Individuo object at 0x0000021B59013908>,\n",
       "       <__main__.Individuo object at 0x0000021B596C8B88>,\n",
       "       <__main__.Individuo object at 0x0000021B596C86C8>,\n",
       "       <__main__.Individuo object at 0x0000021B596C8C08>,\n",
       "       <__main__.Individuo object at 0x0000021B596C8408>,\n",
       "       <__main__.Individuo object at 0x0000021B596C88C8>,\n",
       "       <__main__.Individuo object at 0x0000021B596C8F88>,\n",
       "       <__main__.Individuo object at 0x0000021B595B5A48>,\n",
       "       <__main__.Individuo object at 0x0000021B595B5C08>,\n",
       "       <__main__.Individuo object at 0x0000021B59597848>,\n",
       "       <__main__.Individuo object at 0x0000021B59597348>,\n",
       "       <__main__.Individuo object at 0x0000021B58F9BC48>,\n",
       "       <__main__.Individuo object at 0x0000021B58F9B688>,\n",
       "       <__main__.Individuo object at 0x0000021B595D3548>,\n",
       "       <__main__.Individuo object at 0x0000021B595D3848>,\n",
       "       <__main__.Individuo object at 0x0000021B595D3708>,\n",
       "       <__main__.Individuo object at 0x0000021B595D3648>,\n",
       "       <__main__.Individuo object at 0x0000021B595D3BC8>,\n",
       "       <__main__.Individuo object at 0x0000021B595D34C8>,\n",
       "       <__main__.Individuo object at 0x0000021B595D31C8>,\n",
       "       <__main__.Individuo object at 0x0000021B595D3748>,\n",
       "       <__main__.Individuo object at 0x0000021B595D35C8>,\n",
       "       <__main__.Individuo object at 0x0000021B595D3288>,\n",
       "       <__main__.Individuo object at 0x0000021B595D3C88>,\n",
       "       <__main__.Individuo object at 0x0000021B595D3408>,\n",
       "       <__main__.Individuo object at 0x0000021B591047C8>,\n",
       "       <__main__.Individuo object at 0x0000021B5959C508>,\n",
       "       <__main__.Individuo object at 0x0000021B595EAE88>,\n",
       "       <__main__.Individuo object at 0x0000021B595DAA08>,\n",
       "       <__main__.Individuo object at 0x0000021B5880D948>,\n",
       "       <__main__.Individuo object at 0x0000021B5880D708>,\n",
       "       <__main__.Individuo object at 0x0000021B5880DA88>,\n",
       "       <__main__.Individuo object at 0x0000021B5880DBC8>], dtype=object)"
      ]
     },
     "metadata": {},
     "execution_count": 111
    }
   ],
   "source": [
    "n.pobl"
   ]
  },
  {
   "cell_type": "code",
   "execution_count": 105,
   "metadata": {},
   "outputs": [],
   "source": [
    "c= np.empty(10, dtype= object)"
   ]
  },
  {
   "cell_type": "code",
   "execution_count": 107,
   "metadata": {},
   "outputs": [],
   "source": [
    "c[0]"
   ]
  },
  {
   "cell_type": "code",
   "execution_count": null,
   "metadata": {},
   "outputs": [],
   "source": []
  }
 ]
}