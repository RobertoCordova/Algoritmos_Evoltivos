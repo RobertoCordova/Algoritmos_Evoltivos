{
 "metadata": {
  "language_info": {
   "codemirror_mode": {
    "name": "ipython",
    "version": 3
   },
   "file_extension": ".py",
   "mimetype": "text/x-python",
   "name": "python",
   "nbconvert_exporter": "python",
   "pygments_lexer": "ipython3",
   "version": "3.7.9"
  },
  "orig_nbformat": 4,
  "kernelspec": {
   "name": "python3",
   "display_name": "Python 3.7.9 64-bit ('pygpu': conda)"
  },
  "interpreter": {
   "hash": "fb1d46553072a9b13bb0425ce6bad8f63c37cd9ac9159f740b02d9980521a30e"
  }
 },
 "nbformat": 4,
 "nbformat_minor": 2,
 "cells": [
  {
   "cell_type": "code",
   "execution_count": 1,
   "metadata": {},
   "outputs": [],
   "source": [
    "import numpy as np\n",
    "import pandas as pd\n",
    "import matplotlib.pyplot as plt"
   ]
  },
  {
   "cell_type": "code",
   "execution_count": 93,
   "metadata": {},
   "outputs": [],
   "source": [
    "df= pd.read_excel(r'DistanciasCiudades.xlsx', engine='openpyxl')\n",
    "tab_conf= df.to_numpy()[0:18]"
   ]
  },
  {
   "cell_type": "code",
   "execution_count": 117,
   "metadata": {},
   "outputs": [],
   "source": [
    "#Generacion de la población\n",
    "class Poblacion:\n",
    "    def __init__(self, num_pob, num_gen, dataf):\n",
    "        self.num_pob= num_pob\n",
    "        self.num_gen= num_gen\n",
    "        self.tabla= dataf\n",
    "        self.CreacionPoblacion()\n",
    "        self.AcomodoPob()\n",
    "\n",
    "    def CreacionPoblacion(self):\n",
    "        self.pobl= np.empty(self.num_pob, dtype= object)\n",
    "        for f in range(self.num_pob):\n",
    "            self.pobl[f]= Individuo(self.num_pob, self.num_gen, self.tabla)\n",
    "\n",
    "    def AcomodoPob(self):\n",
    "        for n in range(self.num_pob):\n",
    "            for m in range(self.num_pob-1):\n",
    "                if self.pobl[m].apt > self.pobl[m+1].apt:\n",
    "                    tmp= self.pobl[m]\n",
    "                    self.pobl[m]= self.pobl[m+1]\n",
    "                    self.pobl[m+1]= tmp\n",
    "\n",
    "class Individuo:\n",
    "    def __init__(self, num_pob, num_gen, tab):\n",
    "        #self.num_pob= num_pob\n",
    "        self.num_gen= num_gen\n",
    "        self.tabla= tab\n",
    "        self.CreacionIndividuo()\n",
    "        self.Aptitud()\n",
    "        \n",
    "    def CreacionIndividuo(self):\n",
    "        prueb= np.arange(self.num_gen, dtype= int)\n",
    "        for c in range(self.num_gen, 0, -1):\n",
    "            cam= np.random.randint(c)\n",
    "            guard= prueb[c-1]\n",
    "            prueb[c-1]= prueb[cam]\n",
    "            prueb[cam]= guard\n",
    "        self.indv= prueb\n",
    "\n",
    "    def Aptitud(self):\n",
    "        distancia= 0\n",
    "        for c in range(self.num_gen-1):\n",
    "            distancia= distancia+ self.tabla[self.indv[c], self.indv[c+1]]\n",
    "        distancia= distancia+ self.tabla[self.indv[1], self.indv[c+1]]\n",
    "        self.apt= distancia"
   ]
  },
  {
   "cell_type": "code",
   "execution_count": 118,
   "metadata": {},
   "outputs": [],
   "source": [
    "n= Poblacion(50, 18, tab_conf)"
   ]
  },
  {
   "cell_type": "code",
   "execution_count": 119,
   "metadata": {},
   "outputs": [
    {
     "output_type": "stream",
     "name": "stdout",
     "text": [
      "[ 1 15 17  2  8  5  6 11 13  7 16  0  9  3 14 10 12  4]\n[12  8  9  2 15 14 16  4  1  7  5  0 13 11 17 10  3  6]\n[ 2  7 11  0  5  8 12 16  9  1  3 14 15 10  4 13  6 17]\n[ 1  3 10  8  2  7 14 15 16  4 11 13 12  6  5  9 17  0]\n[12 14  8  9  7 11  6 17  5 15  4 16 10  3  2  0  1 13]\n[ 4 15 17  5 16 12  8 10  7  6  9  0  1  2  3 11 13 14]\n[13  8 14 10  6 11 17  9 16  1  7  0  3  2  5  4 12 15]\n[ 1  7  5  9  3  8 14  4 16  0 11 12 15 10  6 13  2 17]\n[14  1  0  5  3  8  6 12 13 11  9 16  7  2 17 10  4 15]\n[12  6 11  3 13 16 15 17 10 14  2  7  0  5  1  9  4  8]\n[12 13  9 15 16  1  2 14 17  6  5 11 10  8  0  4  3  7]\n[ 5  1 16 13 14  6  2  7  3  8 11  0 17  4 10 15 12  9]\n[16  7 10  2  3 13 15  4  6 12 17  1  0  9  8  5 14 11]\n[14  3 17  1 16  8  7 13 15  2  9 10  6  0 12  4  5 11]\n[14 17 10  7 12  4  5 15 16  8 11  6  0  1  2  9 13  3]\n[13  4  1 10 17  8 14  3  7  6 12  9  0  2 11  5 16 15]\n[14 12  9 17  0  1  4 15  8  2 10 13  6  5  7  3 11 16]\n[15 12 17 11  7 16  5  3  1  8  9  6 14  0 13  2  4 10]\n[ 5 14 17  4  8 10 12  3  1 13  0  7 11 16 15  9  2  6]\n[ 0 17  5 12 14  2 10  7 11  8 13  4  1  3  6 16 15  9]\n[14 15  6 13 17  7 11  3 12  4  0  9 10  1 16  2  8  5]\n[ 7  0  5  1 12 10 14  8 17  3 11  9  4 13 15 16  2  6]\n[ 0 17 12 14  5  6 16  8  3  4  9 10 11 13  2  7 15  1]\n[17  5  3 11  1  7 15 12  4  0  9 10 13 14  8 16  6  2]\n[ 6  9 12 16  2 10 11  8 15  7 17 13  1  4  0 14  5  3]\n[ 1 14  0  8 11  5  4 13 15 10 12  2  7  3  6  9 16 17]\n[16  6 11  7 14  1 12  8  5 15  0  9  4  3 17  2 13 10]\n[ 2  6  0 11 16  1  7  9  3  4 10 17 12  8  5 13 15 14]\n[12  7  2  0  6 13  3 16 10 17 15  8 11  1  9  4 14  5]\n[13  2  1 17 14  9 12  3  8 10  5 16  7  0  6 15  4 11]\n[13  5 17  0  3  8  1  4  6  9 14 11 10 12  7 16 15  2]\n[ 8 16 12  1  9 11 17  4  5  6 10  0 14 15  7  3  2 13]\n[12  2  8  7  1  4 17 16 14  5 11  0 10  3 13  9 15  6]\n[ 3  6 16 10  8  5 15  9 14 17 13  4  0  2 11  7  1 12]\n[ 0 17  1  7  2 14 16  6  3 15  5  8 12 13 11  9 10  4]\n[ 7  0 11 14 13  4  9 16  5  8  6 15 12  2 17  1  3 10]\n[ 4 11  9 15 12  8  0 14  1  7 16 13  2 17  6  3 10  5]\n[ 3  2 12  1 13 15  9  6 10 11 17  0 14  8  7  5 16  4]\n[ 9  4 14  5  8 15  1 12  0 11 13 17  6  7 10 16  2  3]\n[ 2 15  6  9  7  3 14  5  0 13 17 11  4  8 16  1 10 12]\n[ 4  7  8 10 11  3  6 15  2 13 16 14  0  5 17  1  9 12]\n[ 8  2  4  7 10 13 16 17 15 14  1  6  0  9  3 11  5 12]\n[17  7  2 15  8  0  3 13  6 16 14  1 12 11  4  9  5 10]\n[11  1 13 15  7  0  6 17 12  5 16 10  8  3  2  4  9 14]\n[ 4 13 16 11  5  1  0  9  3 10  6  8  2 15  7 12 17 14]\n[ 3 15  7  4  5  0  9 16  2 13 14  8 10  1 17 12  6 11]\n[ 0 16 14  9 12  8 11  3  6 15 13  5  4 17 10  1  7  2]\n[ 5 14 10  4  0 15  6  9 13 16  8 11  3  1  2 12 17  7]\n[ 4  6 10 14  0 12  9 17  8 15  5 13 16 11  1  7  2  3]\n[ 8 15  2  1 16 13 17  5 12  3 14 10  4  9  6 11  0  7]\n"
     ]
    }
   ],
   "source": [
    "for f in n.pobl:\n",
    "    print(f.indv)"
   ]
  },
  {
   "cell_type": "code",
   "execution_count": null,
   "metadata": {},
   "outputs": [],
   "source": []
  }
 ]
}